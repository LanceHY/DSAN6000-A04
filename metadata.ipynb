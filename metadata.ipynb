{
 "cells": [
  {
   "cell_type": "code",
   "execution_count": 2,
   "id": "0b4a51ed",
   "metadata": {},
   "outputs": [],
   "source": [
    "import json, pyarrow as pa, pyarrow.parquet as pq, pyarrow.fs as pafs\n",
    "\n",
    "path = \"s3://bigdatateaching/nyc_tlc/trip_data/yyyy=2021/yellow_tripdata_2021-01.parquet\"\n",
    "pf = pq.ParquetFile(path)\n",
    "m = pf.metadata"
   ]
  },
  {
   "cell_type": "code",
   "execution_count": 3,
   "id": "2e9f5c5a",
   "metadata": {},
   "outputs": [],
   "source": [
    "cols = {\n",
    "    \"created_by\": m.created_by,\n",
    "    \"num_columns\": m.num_columns,\n",
    "    \"num_rows\": m.num_rows,\n",
    "    \"num_row_groups\": m.num_row_groups,\n",
    "    \"format_version\": m.format_version,\n",
    "    \"serialized_size\": m.serialized_size  \n",
    "}\n",
    "with open(\"metadata.json\",\"w\") as f:\n",
    "    json.dump(cols, f, indent=2)\n",
    "\n",
    "comp = m.row_group(0).column(0).compression\n",
    "with open(\"compression_type.txt\",\"w\") as f:\n",
    "    f.write(str(comp) + \"\\n\")"
   ]
  }
 ],
 "metadata": {
  "kernelspec": {
   "display_name": "Polars-DuckDB",
   "language": "python",
   "name": "polars-duckdb"
  },
  "language_info": {
   "codemirror_mode": {
    "name": "ipython",
    "version": 3
   },
   "file_extension": ".py",
   "mimetype": "text/x-python",
   "name": "python",
   "nbconvert_exporter": "python",
   "pygments_lexer": "ipython3",
   "version": "3.12.3"
  }
 },
 "nbformat": 4,
 "nbformat_minor": 5
}
