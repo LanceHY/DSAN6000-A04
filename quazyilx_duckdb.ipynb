{
 "cells": [
  {
   "cell_type": "code",
   "execution_count": null,
   "id": "d7cc1fee",
   "metadata": {},
   "outputs": [
    {
     "name": "stdout",
     "output_type": "stream",
     "text": [
      "   year  month  day  hour  count\n",
      "0  2000      1    1     0    659\n",
      "1  2000      1    1     1    645\n",
      "2  2000      1    1     2    658\n",
      "3  2000      1    1     3    643\n",
      "4  2000      1    1     4    658\n",
      "Total rows: 1527\n"
     ]
    }
   ],
   "source": [
    "import duckdb\n",
    "\n",
    "con = duckdb.connect()\n",
    "\n",
    "df_hourly = con.execute(\"\"\"\n",
    "SELECT\n",
    "  EXTRACT(year FROM date_time)::INT AS year,\n",
    "  EXTRACT(month FROM date_time)::INT AS month,\n",
    "  EXTRACT(day FROM date_time)::INT AS day,\n",
    "  EXTRACT(hour FROM date_time)::INT AS hour,\n",
    "  COUNT(*) AS count\n",
    "FROM parquet_scan('quazyilx0.parquet')\n",
    "GROUP BY 1,2,3,4\n",
    "ORDER BY 1,2,3,4;\n",
    "\"\"\").df()\n",
    "\n",
    "df_hourly.to_csv(\"readings_per_hour.csv\", index=False)\n",
    "print(df_hourly.head())\n",
    "print(\"Total rows:\", len(df_hourly))"
   ]
  },
  {
   "cell_type": "code",
   "execution_count": null,
   "id": "9ff8c507",
   "metadata": {},
   "outputs": [],
   "source": []
  }
 ],
 "metadata": {
  "kernelspec": {
   "display_name": "Polars-DuckDB",
   "language": "python",
   "name": "polars-duckdb"
  },
  "language_info": {
   "codemirror_mode": {
    "name": "ipython",
    "version": 3
   },
   "file_extension": ".py",
   "mimetype": "text/x-python",
   "name": "python",
   "nbconvert_exporter": "python",
   "pygments_lexer": "ipython3",
   "version": "3.12.3"
  }
 },
 "nbformat": 4,
 "nbformat_minor": 5
}
