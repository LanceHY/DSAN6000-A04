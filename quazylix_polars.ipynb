{
 "cells": [
  {
   "cell_type": "code",
   "execution_count": 8,
   "id": "3028b1d4",
   "metadata": {},
   "outputs": [
    {
     "data": {
      "text/html": [
       "<div><style>\n",
       ".dataframe > thead > tr,\n",
       ".dataframe > tbody > tr {\n",
       "  text-align: right;\n",
       "  white-space: pre-wrap;\n",
       "}\n",
       "</style>\n",
       "<small>shape: (5, 6)</small><table border=\"1\" class=\"dataframe\"><thead><tr><th>date</th><th>time</th><th>fnard_tok</th><th>fnok_tok</th><th>cark_tok</th><th>gnuck_tok</th></tr><tr><td>str</td><td>str</td><td>str</td><td>str</td><td>str</td><td>str</td></tr></thead><tbody><tr><td>&quot;2000-01-01&quot;</td><td>&quot;00:00:03&quot;</td><td>&quot;fnard:7&quot;</td><td>&quot;fnok:8&quot;</td><td>&quot;cark:19&quot;</td><td>&quot;gnuck:25&quot;</td></tr><tr><td>&quot;2000-01-01&quot;</td><td>&quot;00:00:08&quot;</td><td>&quot;fnard:14&quot;</td><td>&quot;fnok:19&quot;</td><td>&quot;cark:16&quot;</td><td>&quot;gnuck:37&quot;</td></tr><tr><td>&quot;2000-01-01&quot;</td><td>&quot;00:00:17&quot;</td><td>&quot;fnard:12&quot;</td><td>&quot;fnok:11&quot;</td><td>&quot;cark:12&quot;</td><td>&quot;gnuck:8&quot;</td></tr><tr><td>&quot;2000-01-01&quot;</td><td>&quot;00:00:22&quot;</td><td>&quot;fnard:18&quot;</td><td>&quot;fnok:16&quot;</td><td>&quot;cark:3&quot;</td><td>&quot;gnuck:8&quot;</td></tr><tr><td>&quot;2000-01-01&quot;</td><td>&quot;00:00:32&quot;</td><td>&quot;fnard:7&quot;</td><td>&quot;fnok:16&quot;</td><td>&quot;cark:7&quot;</td><td>&quot;gnuck:37&quot;</td></tr></tbody></table></div>"
      ],
      "text/plain": [
       "shape: (5, 6)\n",
       "┌────────────┬──────────┬───────────┬──────────┬──────────┬───────────┐\n",
       "│ date       ┆ time     ┆ fnard_tok ┆ fnok_tok ┆ cark_tok ┆ gnuck_tok │\n",
       "│ ---        ┆ ---      ┆ ---       ┆ ---      ┆ ---      ┆ ---       │\n",
       "│ str        ┆ str      ┆ str       ┆ str      ┆ str      ┆ str       │\n",
       "╞════════════╪══════════╪═══════════╪══════════╪══════════╪═══════════╡\n",
       "│ 2000-01-01 ┆ 00:00:03 ┆ fnard:7   ┆ fnok:8   ┆ cark:19  ┆ gnuck:25  │\n",
       "│ 2000-01-01 ┆ 00:00:08 ┆ fnard:14  ┆ fnok:19  ┆ cark:16  ┆ gnuck:37  │\n",
       "│ 2000-01-01 ┆ 00:00:17 ┆ fnard:12  ┆ fnok:11  ┆ cark:12  ┆ gnuck:8   │\n",
       "│ 2000-01-01 ┆ 00:00:22 ┆ fnard:18  ┆ fnok:16  ┆ cark:3   ┆ gnuck:8   │\n",
       "│ 2000-01-01 ┆ 00:00:32 ┆ fnard:7   ┆ fnok:16  ┆ cark:7   ┆ gnuck:37  │\n",
       "└────────────┴──────────┴───────────┴──────────┴──────────┴───────────┘"
      ]
     },
     "execution_count": 8,
     "metadata": {},
     "output_type": "execute_result"
    }
   ],
   "source": [
    "import polars as pl\n",
    "\n",
    "src = \"s3://assignment-polars-duckdb-hy536/quazyilx0.txt\"\n",
    "\n",
    "df = pl.read_csv(\n",
    "    src,\n",
    "    has_header=False,\n",
    "    separator=\" \",\n",
    "    new_columns=[\"date\", \"time\", \"fnard_tok\", \"fnok_tok\", \"cark_tok\", \"gnuck_tok\"],\n",
    ")\n",
    "\n",
    "\n",
    "df.head()"
   ]
  },
  {
   "cell_type": "code",
   "execution_count": 9,
   "id": "1452c2f7",
   "metadata": {},
   "outputs": [
    {
     "data": {
      "text/html": [
       "<div><style>\n",
       ".dataframe > thead > tr,\n",
       ".dataframe > tbody > tr {\n",
       "  text-align: right;\n",
       "  white-space: pre-wrap;\n",
       "}\n",
       "</style>\n",
       "<small>shape: (5, 5)</small><table border=\"1\" class=\"dataframe\"><thead><tr><th>date_time</th><th>fnard</th><th>fnok</th><th>cark</th><th>gnuck</th></tr><tr><td>datetime[μs]</td><td>i32</td><td>i32</td><td>i32</td><td>i32</td></tr></thead><tbody><tr><td>2000-01-01 00:00:03</td><td>7</td><td>8</td><td>19</td><td>25</td></tr><tr><td>2000-01-01 00:00:08</td><td>14</td><td>19</td><td>16</td><td>37</td></tr><tr><td>2000-01-01 00:00:17</td><td>12</td><td>11</td><td>12</td><td>8</td></tr><tr><td>2000-01-01 00:00:22</td><td>18</td><td>16</td><td>3</td><td>8</td></tr><tr><td>2000-01-01 00:00:32</td><td>7</td><td>16</td><td>7</td><td>37</td></tr></tbody></table></div>"
      ],
      "text/plain": [
       "shape: (5, 5)\n",
       "┌─────────────────────┬───────┬──────┬──────┬───────┐\n",
       "│ date_time           ┆ fnard ┆ fnok ┆ cark ┆ gnuck │\n",
       "│ ---                 ┆ ---   ┆ ---  ┆ ---  ┆ ---   │\n",
       "│ datetime[μs]        ┆ i32   ┆ i32  ┆ i32  ┆ i32   │\n",
       "╞═════════════════════╪═══════╪══════╪══════╪═══════╡\n",
       "│ 2000-01-01 00:00:03 ┆ 7     ┆ 8    ┆ 19   ┆ 25    │\n",
       "│ 2000-01-01 00:00:08 ┆ 14    ┆ 19   ┆ 16   ┆ 37    │\n",
       "│ 2000-01-01 00:00:17 ┆ 12    ┆ 11   ┆ 12   ┆ 8     │\n",
       "│ 2000-01-01 00:00:22 ┆ 18    ┆ 16   ┆ 3    ┆ 8     │\n",
       "│ 2000-01-01 00:00:32 ┆ 7     ┆ 16   ┆ 7    ┆ 37    │\n",
       "└─────────────────────┴───────┴──────┴──────┴───────┘"
      ]
     },
     "execution_count": 9,
     "metadata": {},
     "output_type": "execute_result"
    }
   ],
   "source": [
    "df_new = (\n",
    "    df\n",
    "    .with_columns(\n",
    "        pl.concat_str([pl.col(\"date\"), pl.lit(\" \"), pl.col(\"time\")])\n",
    "          .str.strptime(pl.Datetime, format=\"%Y-%m-%d %H:%M:%S\", strict=True)\n",
    "          .alias(\"date_time\"),\n",
    "        pl.col(\"fnard_tok\").str.split_exact(\":\", 1).struct.field(\"field_1\").cast(pl.Int32).alias(\"fnard\"),\n",
    "        pl.col(\"fnok_tok\"). str.split_exact(\":\", 1).struct.field(\"field_1\").cast(pl.Int32).alias(\"fnok\"),\n",
    "        pl.col(\"cark_tok\"). str.split_exact(\":\", 1).struct.field(\"field_1\").cast(pl.Int32).alias(\"cark\"),\n",
    "        pl.col(\"gnuck_tok\").str.split_exact(\":\", 1).struct.field(\"field_1\").cast(pl.Int32).alias(\"gnuck\"),\n",
    "    )\n",
    "    .select([\"date_time\",\"fnard\",\"fnok\",\"cark\",\"gnuck\"])\n",
    ")\n",
    "\n",
    "df_new.head()"
   ]
  },
  {
   "cell_type": "code",
   "execution_count": 10,
   "id": "69ecee82",
   "metadata": {},
   "outputs": [],
   "source": [
    "df_new.write_parquet(\n",
    "    \"s3://assignment-polars-duckdb-hy536/quazyilx0.parquet\", use_pyarrow=True\n",
    ") "
   ]
  },
  {
   "cell_type": "code",
   "execution_count": 12,
   "id": "df0b35a8",
   "metadata": {},
   "outputs": [],
   "source": [
    "anom = df_new.filter(\n",
    "    (pl.col(\"fnard\")==-1) & \n",
    "    (pl.col(\"fnok\")==-1) & \n",
    "    (pl.col(\"cark\")==-1) & \n",
    "    (pl.col(\"gnuck\")==-1)\n",
    ")\n",
    "anom.write_csv(\"anomalies.csv\")"
   ]
  },
  {
   "cell_type": "code",
   "execution_count": null,
   "id": "689ad122",
   "metadata": {},
   "outputs": [],
   "source": []
  }
 ],
 "metadata": {
  "kernelspec": {
   "display_name": "Polars-DuckDB",
   "language": "python",
   "name": "polars-duckdb"
  },
  "language_info": {
   "codemirror_mode": {
    "name": "ipython",
    "version": 3
   },
   "file_extension": ".py",
   "mimetype": "text/x-python",
   "name": "python",
   "nbconvert_exporter": "python",
   "pygments_lexer": "ipython3",
   "version": "3.12.3"
  }
 },
 "nbformat": 4,
 "nbformat_minor": 5
}
